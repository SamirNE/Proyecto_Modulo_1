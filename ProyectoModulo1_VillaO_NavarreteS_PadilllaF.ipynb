{
 "cells": [
  {
   "cell_type": "markdown",
   "metadata": {},
   "source": [
    "# Optimización de maquinaria para producción de varillas\n",
    "\n",
    "<img style=\"float: right; margin: 0px 0px 15px 15px;\" src=\"https://upload.wikimedia.org/wikipedia/commons/d/db/Logo_ITESO_normal.jpg\" width=\"130px\" height=\"80px\" />\n",
    "\n",
    "> # Integrantes\n",
    "\n",
    ">- Samir Navarrete\n",
    ">- Fernando Padilla\n",
    ">- Oscar Villa"
   ]
  },
  {
   "cell_type": "markdown",
   "metadata": {},
   "source": [
    "# Objetivos\n",
    "\n",
    "+ El objetivo de este trabajo, consta de optimizar la produccion de varillas en una empresa para poder maximizar las ganancias por unidad de varilla.\n",
    "\n",
    "## Objetivo general\n",
    "\n",
    "+ Encontrar un modelo que nos pueda maximizar las ganancias de la empresa.\n",
    "\n",
    "## Objetivos especificos\n",
    "\n",
    "+ Obtener las cantidades óptimas de producción mediante la programación lineal.\n",
    "\n",
    "+ Mostrar gráficamente el resultado obtenido.\n",
    "\n",
    "+ Analizar la situación en cuanto a costo-beneficio de la producción de varillas.\n",
    "\n",
    "\n",
    "+ Los componenetes a tomar en cuenta son:\n",
    "\n",
    "     >+ Dias en los que se opera \n",
    "     >+ Produccion por maquinaria\n",
    "     >+ Tipos de varilla\n",
    "     >+ Beneficios "
   ]
  },
  {
   "cell_type": "markdown",
   "metadata": {},
   "source": [
    "Tomando en cuenta estos componenetes podremos dar un modelo que garantice la optimizacion de las ganancias, para brindar a la empresa una opcion de produccion en la cual aprovechen mas el uso de maquinaria y aporten un beneficio economico al mismo.\n",
    "La empresa cuenta con 3 maquinarias para la produccion de varillas.\n"
   ]
  },
  {
   "cell_type": "markdown",
   "metadata": {},
   "source": [
    "+ En la maquinaria A se invierten:\n",
    "   + 4 D-O para producir 1 monto(1000 kg) de varilla de 1\"\n",
    "   + 3 D-O para producir 1 monto de varilla de 3/4\"\n",
    "   + 2 D-O para producir 1 monto de varilla de 1/2\""
   ]
  },
  {
   "cell_type": "markdown",
   "metadata": {},
   "source": [
    "+ En la maquinaria B se invierten: \n",
    "    + 3 D-O para producir 1 monto de varilla de 1\"\n",
    "    + 3 D-O para producir 1 monto de varilla de 3/4\"\n",
    "    + 2 D-O para producir 1 monto de varilla de 1/2\"\n",
    "  "
   ]
  },
  {
   "cell_type": "markdown",
   "metadata": {},
   "source": [
    "+ En la maquinaria C se invierten:\n",
    "    + 3 D-O para producir 1 monto de varilla de 1\"\n",
    "    + 3 D-O para producir 1 monto de varilla de 3/4\"\n",
    "    + 2 D-O para producir 1 monto de varilla de 1/2\"\n",
    " "
   ]
  },
  {
   "cell_type": "markdown",
   "metadata": {},
   "source": [
    "Si los beneficios son:\n",
    "+ 1\" = 25,000\n",
    "+ 3/4\" = 22,000\n",
    "+ 1/2\" = 18,000\n",
    "\n"
   ]
  },
  {
   "cell_type": "markdown",
   "metadata": {},
   "source": [
    "+ **Como se quiere maximizar las ganancias, entonces:**\n",
    "\n",
    "$$MaxG_{A,B,C}= 25(x_{1A}+x_{1B}+x_{1C})+22(x_{2A}+ x_{2B}+x_{2C})+18(x_{3A}+ x_{3B}+x_{3C})$$\n",
    "\n",
    "+ **Donde X (V,M), son:**\n",
    "\n",
    "    + Tipo de Varilla  V(1,2,3)\n",
    "    \n",
    "    + Maquinaria  M(A,B,C)\n",
    "\n",
    "\n",
    "+ **Además, sujeta:**\n",
    "\n",
    "    - $ 4x_{1A}+ 3x_{2A}+ 3x_{3A}\\leq 350$,\n",
    "    - $ 3x_{1B}+ 3x_{2B}+ 2x_{3B}\\leq 320$,\n",
    "    - $ 3x_{1C}+ 3x_{2C}+ 2x_{3C}\\leq 300$,\n",
    "    - $ x_{1A}, x_{1B}, x_{1C}, x_{2A}, x_{2B}, x_{2C}, x_{3A}, x_{3B}, x_{3C}\\geq 0$."
   ]
  },
  {
   "cell_type": "code",
   "execution_count": 8,
   "metadata": {
    "collapsed": true
   },
   "outputs": [],
   "source": [
    "import sympy as sym\n",
    "import numpy as np\n",
    "import scipy.optimize as opt"
   ]
  },
  {
   "cell_type": "code",
   "execution_count": 9,
   "metadata": {},
   "outputs": [
    {
     "data": {
      "text/plain": [
       "     fun: 106.66666666666667\n",
       " message: 'Optimization terminated successfully.'\n",
       "     nit: 3\n",
       "   slack: array([  0.,   0.,  20.])\n",
       "  status: 0\n",
       " success: True\n",
       "       x: array([ 30.        ,  76.66666667,   0.        ])"
      ]
     },
     "execution_count": 9,
     "metadata": {},
     "output_type": "execute_result"
    }
   ],
   "source": [
    "c = np.array([1, 1, 1])\n",
    "A = -np.array([[4, 3, 3],\n",
    "               [3, 3, 2],\n",
    "               [3, 3, 2]])\n",
    "b = -np.array([350, 320, 300])\n",
    "x1_cota = (0,None)\n",
    "x2_cota = (0,None)\n",
    "x3_cota = (0,None)\n",
    "\n",
    "res_ganancia = opt.linprog(c, A_ub=A, b_ub=b, bounds = (x1_cota, x2_cota, x3_cota))\n",
    "res_ganancia"
   ]
  },
  {
   "cell_type": "markdown",
   "metadata": {},
   "source": [
    "Debemos producir 30 montos en la máquina A y 76.6667 montos en la máquina B. Sin embargo, el resultado nos arroja que la máquina C está de más."
   ]
  },
  {
   "cell_type": "markdown",
   "metadata": {
    "collapsed": true
   },
   "source": []
  },
  {
   "cell_type": "markdown",
   "metadata": {
    "collapsed": true
   },
   "source": [
    "Con las limitantes que se proveen en el problema, se llega a la conclusión que se deben producir 106.6667 montos de varilla, se debe omitir la maquinaria C para maximizar las ganancias, dado que la relación costo beneficio no es óptima.\n"
   ]
  }
 ],
 "metadata": {
  "kernelspec": {
   "display_name": "Python 3",
   "language": "python",
   "name": "python3"
  },
  "language_info": {
   "codemirror_mode": {
    "name": "ipython",
    "version": 3
   },
   "file_extension": ".py",
   "mimetype": "text/x-python",
   "name": "python",
   "nbconvert_exporter": "python",
   "pygments_lexer": "ipython3",
   "version": "3.6.3"
  }
 },
 "nbformat": 4,
 "nbformat_minor": 2
}
